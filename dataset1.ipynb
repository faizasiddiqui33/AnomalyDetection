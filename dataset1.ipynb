{
 "cells": [
  {
   "cell_type": "code",
   "execution_count": 1,
   "id": "graphic-tolerance",
   "metadata": {},
   "outputs": [],
   "source": [
    "import numpy as np                 \n",
    "import pandas as pd                \n",
    "import matplotlib                  \n",
    "import matplotlib.pyplot as plt      \n",
    "import seaborn as sns                          \n",
    "%matplotlib inline"
   ]
  },
  {
   "cell_type": "code",
   "execution_count": 2,
   "id": "hazardous-japanese",
   "metadata": {},
   "outputs": [],
   "source": [
    "df_sleep = pd.read_csv(\"14-DataA.csv\")"
   ]
  },
  {
   "cell_type": "code",
   "execution_count": 3,
   "id": "happy-shock",
   "metadata": {},
   "outputs": [
    {
     "data": {
      "text/html": [
       "<div>\n",
       "<style scoped>\n",
       "    .dataframe tbody tr th:only-of-type {\n",
       "        vertical-align: middle;\n",
       "    }\n",
       "\n",
       "    .dataframe tbody tr th {\n",
       "        vertical-align: top;\n",
       "    }\n",
       "\n",
       "    .dataframe thead th {\n",
       "        text-align: right;\n",
       "    }\n",
       "</style>\n",
       "<table border=\"1\" class=\"dataframe\">\n",
       "  <thead>\n",
       "    <tr style=\"text-align: right;\">\n",
       "      <th></th>\n",
       "      <th>Gender</th>\n",
       "      <th>Sleep_time</th>\n",
       "      <th>Wake_up_time</th>\n",
       "      <th>Sleep_duration</th>\n",
       "      <th>Health_status</th>\n",
       "      <th>Screentime_before_sleep_hrs</th>\n",
       "      <th>Workhours</th>\n",
       "      <th>Meal_intake</th>\n",
       "      <th>Smoking</th>\n",
       "      <th>Drinking</th>\n",
       "      <th>Sleep_Quality_%</th>\n",
       "    </tr>\n",
       "  </thead>\n",
       "  <tbody>\n",
       "    <tr>\n",
       "      <th>0</th>\n",
       "      <td>Female</td>\n",
       "      <td>2022-05-05 03:45:00</td>\n",
       "      <td>2022-05-05 12:30:00</td>\n",
       "      <td>0 days 08:45:00</td>\n",
       "      <td>Okay</td>\n",
       "      <td>1.25</td>\n",
       "      <td>5.5</td>\n",
       "      <td>2</td>\n",
       "      <td>True</td>\n",
       "      <td>True</td>\n",
       "      <td>61</td>\n",
       "    </tr>\n",
       "    <tr>\n",
       "      <th>1</th>\n",
       "      <td>Female</td>\n",
       "      <td>2022-05-05 23:15:00</td>\n",
       "      <td>2022-05-06 06:30:00</td>\n",
       "      <td>0 days 07:15:00</td>\n",
       "      <td>Okay</td>\n",
       "      <td>1.50</td>\n",
       "      <td>8.0</td>\n",
       "      <td>3</td>\n",
       "      <td>True</td>\n",
       "      <td>False</td>\n",
       "      <td>40</td>\n",
       "    </tr>\n",
       "    <tr>\n",
       "      <th>2</th>\n",
       "      <td>Male</td>\n",
       "      <td>2022-05-05 22:30:00</td>\n",
       "      <td>2022-05-06 06:00:00</td>\n",
       "      <td>0 days 07:30:00</td>\n",
       "      <td>Healthy</td>\n",
       "      <td>2.25</td>\n",
       "      <td>8.5</td>\n",
       "      <td>3</td>\n",
       "      <td>True</td>\n",
       "      <td>False</td>\n",
       "      <td>41</td>\n",
       "    </tr>\n",
       "    <tr>\n",
       "      <th>3</th>\n",
       "      <td>Male</td>\n",
       "      <td>2022-05-05 03:00:00</td>\n",
       "      <td>2022-05-05 17:00:00</td>\n",
       "      <td>0 days 14:00:00</td>\n",
       "      <td>Sick</td>\n",
       "      <td>2.50</td>\n",
       "      <td>7.5</td>\n",
       "      <td>3</td>\n",
       "      <td>True</td>\n",
       "      <td>False</td>\n",
       "      <td>42</td>\n",
       "    </tr>\n",
       "    <tr>\n",
       "      <th>4</th>\n",
       "      <td>Male</td>\n",
       "      <td>2022-05-05 00:15:00</td>\n",
       "      <td>2022-05-05 06:30:00</td>\n",
       "      <td>0 days 06:15:00</td>\n",
       "      <td>Okay</td>\n",
       "      <td>1.75</td>\n",
       "      <td>10.0</td>\n",
       "      <td>4</td>\n",
       "      <td>False</td>\n",
       "      <td>True</td>\n",
       "      <td>42</td>\n",
       "    </tr>\n",
       "  </tbody>\n",
       "</table>\n",
       "</div>"
      ],
      "text/plain": [
       "   Gender           Sleep_time         Wake_up_time   Sleep_duration  \\\n",
       "0  Female  2022-05-05 03:45:00  2022-05-05 12:30:00  0 days 08:45:00   \n",
       "1  Female  2022-05-05 23:15:00  2022-05-06 06:30:00  0 days 07:15:00   \n",
       "2    Male  2022-05-05 22:30:00  2022-05-06 06:00:00  0 days 07:30:00   \n",
       "3    Male  2022-05-05 03:00:00  2022-05-05 17:00:00  0 days 14:00:00   \n",
       "4    Male  2022-05-05 00:15:00  2022-05-05 06:30:00  0 days 06:15:00   \n",
       "\n",
       "  Health_status  Screentime_before_sleep_hrs  Workhours  Meal_intake  Smoking  \\\n",
       "0          Okay                         1.25        5.5            2     True   \n",
       "1          Okay                         1.50        8.0            3     True   \n",
       "2       Healthy                         2.25        8.5            3     True   \n",
       "3          Sick                         2.50        7.5            3     True   \n",
       "4          Okay                         1.75       10.0            4    False   \n",
       "\n",
       "   Drinking  Sleep_Quality_%  \n",
       "0      True               61  \n",
       "1     False               40  \n",
       "2     False               41  \n",
       "3     False               42  \n",
       "4      True               42  "
      ]
     },
     "execution_count": 3,
     "metadata": {},
     "output_type": "execute_result"
    }
   ],
   "source": [
    "df_sleep.head()"
   ]
  },
  {
   "cell_type": "code",
   "execution_count": 4,
   "id": "micro-burning",
   "metadata": {},
   "outputs": [
    {
     "data": {
      "text/plain": [
       "array([[<AxesSubplot:title={'center':'Screentime_before_sleep_hrs'}>,\n",
       "        <AxesSubplot:title={'center':'Workhours'}>],\n",
       "       [<AxesSubplot:title={'center':'Meal_intake'}>,\n",
       "        <AxesSubplot:title={'center':'Sleep_Quality_%'}>]], dtype=object)"
      ]
     },
     "execution_count": 4,
     "metadata": {},
     "output_type": "execute_result"
    },
    {
     "data": {
      "image/png": "[encoded data removed]",
      "text/plain": [
       "<Figure size 720x720 with 4 Axes>"
      ]
     },
     "metadata": {
      "needs_background": "light"
     },
     "output_type": "display_data"
    }
   ],
   "source": [
    "df_sleep.hist(bins=100, figsize=(10, 10))"
   ]
  },
  {
   "cell_type": "markdown",
   "id": "impaired-watson",
   "metadata": {},
   "source": [
    "## Describing the dataset"
   ]
  },
  {
   "cell_type": "markdown",
   "id": "future-static",
   "metadata": {},
   "source": [
    "### Overall description"
   ]
  },
  {
   "cell_type": "code",
   "execution_count": 5,
   "id": "charitable-carpet",
   "metadata": {},
   "outputs": [
    {
     "data": {
      "text/html": [
       "<div>\n",
       "<style scoped>\n",
       "    .dataframe tbody tr th:only-of-type {\n",
       "        vertical-align: middle;\n",
       "    }\n",
       "\n",
       "    .dataframe tbody tr th {\n",
       "        vertical-align: top;\n",
       "    }\n",
       "\n",
       "    .dataframe thead th {\n",
       "        text-align: right;\n",
       "    }\n",
       "</style>\n",
       "<table border=\"1\" class=\"dataframe\">\n",
       "  <thead>\n",
       "    <tr style=\"text-align: right;\">\n",
       "      <th></th>\n",
       "      <th>Screentime_before_sleep_hrs</th>\n",
       "      <th>Workhours</th>\n",
       "      <th>Meal_intake</th>\n",
       "      <th>Sleep_Quality_%</th>\n",
       "    </tr>\n",
       "  </thead>\n",
       "  <tbody>\n",
       "    <tr>\n",
       "      <th>count</th>\n",
       "      <td>10000.000000</td>\n",
       "      <td>10000.000000</td>\n",
       "      <td>10000.000000</td>\n",
       "      <td>10000.000000</td>\n",
       "    </tr>\n",
       "    <tr>\n",
       "      <th>mean</th>\n",
       "      <td>1.815200</td>\n",
       "      <td>8.101100</td>\n",
       "      <td>3.029200</td>\n",
       "      <td>52.252600</td>\n",
       "    </tr>\n",
       "    <tr>\n",
       "      <th>std</th>\n",
       "      <td>0.570587</td>\n",
       "      <td>1.425914</td>\n",
       "      <td>0.986532</td>\n",
       "      <td>10.172529</td>\n",
       "    </tr>\n",
       "    <tr>\n",
       "      <th>min</th>\n",
       "      <td>0.250000</td>\n",
       "      <td>5.000000</td>\n",
       "      <td>1.000000</td>\n",
       "      <td>40.000000</td>\n",
       "    </tr>\n",
       "    <tr>\n",
       "      <th>25%</th>\n",
       "      <td>1.500000</td>\n",
       "      <td>7.500000</td>\n",
       "      <td>3.000000</td>\n",
       "      <td>42.000000</td>\n",
       "    </tr>\n",
       "    <tr>\n",
       "      <th>50%</th>\n",
       "      <td>2.000000</td>\n",
       "      <td>8.500000</td>\n",
       "      <td>3.000000</td>\n",
       "      <td>51.000000</td>\n",
       "    </tr>\n",
       "    <tr>\n",
       "      <th>75%</th>\n",
       "      <td>2.250000</td>\n",
       "      <td>9.500000</td>\n",
       "      <td>4.000000</td>\n",
       "      <td>63.000000</td>\n",
       "    </tr>\n",
       "    <tr>\n",
       "      <th>max</th>\n",
       "      <td>2.500000</td>\n",
       "      <td>10.000000</td>\n",
       "      <td>4.000000</td>\n",
       "      <td>69.000000</td>\n",
       "    </tr>\n",
       "  </tbody>\n",
       "</table>\n",
       "</div>"
      ],
      "text/plain": [
       "       Screentime_before_sleep_hrs     Workhours   Meal_intake  \\\n",
       "count                 10000.000000  10000.000000  10000.000000   \n",
       "mean                      1.815200      8.101100      3.029200   \n",
       "std                       0.570587      1.425914      0.986532   \n",
       "min                       0.250000      5.000000      1.000000   \n",
       "25%                       1.500000      7.500000      3.000000   \n",
       "50%                       2.000000      8.500000      3.000000   \n",
       "75%                       2.250000      9.500000      4.000000   \n",
       "max                       2.500000     10.000000      4.000000   \n",
       "\n",
       "       Sleep_Quality_%  \n",
       "count     10000.000000  \n",
       "mean         52.252600  \n",
       "std          10.172529  \n",
       "min          40.000000  \n",
       "25%          42.000000  \n",
       "50%          51.000000  \n",
       "75%          63.000000  \n",
       "max          69.000000  "
      ]
     },
     "execution_count": 5,
     "metadata": {},
     "output_type": "execute_result"
    }
   ],
   "source": [
    "df_sleep.describe()"
   ]
  },
  {
   "cell_type": "code",
   "execution_count": 6,
   "id": "subsequent-litigation",
   "metadata": {},
   "outputs": [
    {
     "name": "stdout",
     "output_type": "stream",
     "text": [
      "<class 'pandas.core.frame.DataFrame'>\n",
      "RangeIndex: 10000 entries, 0 to 9999\n",
      "Data columns (total 11 columns):\n",
      " #   Column                       Non-Null Count  Dtype  \n",
      "---  ------                       --------------  -----  \n",
      " 0   Gender                       10000 non-null  object \n",
      " 1   Sleep_time                   10000 non-null  object \n",
      " 2   Wake_up_time                 10000 non-null  object \n",
      " 3   Sleep_duration               10000 non-null  object \n",
      " 4   Health_status                10000 non-null  object \n",
      " 5   Screentime_before_sleep_hrs  10000 non-null  float64\n",
      " 6   Workhours                    10000 non-null  float64\n",
      " 7   Meal_intake                  10000 non-null  int64  \n",
      " 8   Smoking                      10000 non-null  bool   \n",
      " 9   Drinking                     10000 non-null  bool   \n",
      " 10  Sleep_Quality_%              10000 non-null  int64  \n",
      "dtypes: bool(2), float64(2), int64(2), object(5)\n",
      "memory usage: 722.8+ KB\n"
     ]
    }
   ],
   "source": [
    "df_sleep.info()"
   ]
  },
  {
   "cell_type": "markdown",
   "id": "alien-influence",
   "metadata": {},
   "source": [
    "## Column wise description"
   ]
  },
  {
   "cell_type": "code",
   "execution_count": 7,
   "id": "opened-flesh",
   "metadata": {},
   "outputs": [
    {
     "name": "stdout",
     "output_type": "stream",
     "text": [
      "Gender:\n",
      "Datatype : <class 'pandas.core.series.Series'>\n",
      "count     10000\n",
      "unique        3\n",
      "top        Male\n",
      "freq       4977\n",
      "Name: Gender, dtype: object\n",
      "###################################################################################\n",
      "\n",
      "Sleep_time:\n",
      "Datatype : <class 'pandas.core.series.Series'>\n",
      "count                   10000\n",
      "unique                     40\n",
      "top       2022-05-05 18:15:00\n",
      "freq                      282\n",
      "Name: Sleep_time, dtype: object\n",
      "###################################################################################\n",
      "\n",
      "Wake_up_time:\n",
      "Datatype : <class 'pandas.core.series.Series'>\n",
      "count                   10000\n",
      "unique                     64\n",
      "top       2022-05-06 04:30:00\n",
      "freq                      421\n",
      "Name: Wake_up_time, dtype: object\n",
      "###################################################################################\n",
      "\n",
      "Sleep_duration:\n",
      "Datatype : <class 'pandas.core.series.Series'>\n",
      "count               10000\n",
      "unique                 36\n",
      "top       0 days 05:15:00\n",
      "freq                  419\n",
      "Name: Sleep_duration, dtype: object\n",
      "###################################################################################\n",
      "\n",
      "Health_status:\n",
      "Datatype : <class 'pandas.core.series.Series'>\n",
      "count       10000\n",
      "unique          3\n",
      "top       Healthy\n",
      "freq         4205\n",
      "Name: Health_status, dtype: object\n",
      "###################################################################################\n",
      "\n",
      "Screentime_before_sleep_hrs:\n",
      "Datatype : <class 'pandas.core.series.Series'>\n",
      "count    10000.000000\n",
      "mean         1.815200\n",
      "std          0.570587\n",
      "min          0.250000\n",
      "25%          1.500000\n",
      "50%          2.000000\n",
      "75%          2.250000\n",
      "max          2.500000\n",
      "Name: Screentime_before_sleep_hrs, dtype: float64\n",
      "###################################################################################\n",
      "\n",
      "Workhours:\n",
      "Datatype : <class 'pandas.core.series.Series'>\n",
      "count    10000.000000\n",
      "mean         8.101100\n",
      "std          1.425914\n",
      "min          5.000000\n",
      "25%          7.500000\n",
      "50%          8.500000\n",
      "75%          9.500000\n",
      "max         10.000000\n",
      "Name: Workhours, dtype: float64\n",
      "###################################################################################\n",
      "\n",
      "Meal_intake:\n",
      "Datatype : <class 'pandas.core.series.Series'>\n",
      "count    10000.000000\n",
      "mean         3.029200\n",
      "std          0.986532\n",
      "min          1.000000\n",
      "25%          3.000000\n",
      "50%          3.000000\n",
      "75%          4.000000\n",
      "max          4.000000\n",
      "Name: Meal_intake, dtype: float64\n",
      "###################################################################################\n",
      "\n",
      "Smoking:\n",
      "Datatype : <class 'pandas.core.series.Series'>\n",
      "count     10000\n",
      "unique        2\n",
      "top        True\n",
      "freq       6083\n",
      "Name: Smoking, dtype: object\n",
      "###################################################################################\n",
      "\n",
      "Drinking:\n",
      "Datatype : <class 'pandas.core.series.Series'>\n",
      "count     10000\n",
      "unique        2\n",
      "top        True\n",
      "freq       6125\n",
      "Name: Drinking, dtype: object\n",
      "###################################################################################\n",
      "\n",
      "Sleep_Quality_%:\n",
      "Datatype : <class 'pandas.core.series.Series'>\n",
      "count    10000.000000\n",
      "mean        52.252600\n",
      "std         10.172529\n",
      "min         40.000000\n",
      "25%         42.000000\n",
      "50%         51.000000\n",
      "75%         63.000000\n",
      "max         69.000000\n",
      "Name: Sleep_Quality_%, dtype: float64\n",
      "###################################################################################\n",
      "\n"
     ]
    }
   ],
   "source": [
    "for i in df_sleep.columns:\n",
    "    print(i + \":\")\n",
    "    print(f\"Datatype : {type(df_sleep[i])}\")\n",
    "    print(df_sleep[i].describe())\n",
    "    print(\"###################################################################################\")\n",
    "    print(\"\")"
   ]
  },
  {
   "cell_type": "markdown",
   "id": "rotary-windows",
   "metadata": {},
   "source": [
    "## Domains of values"
   ]
  },
  {
   "cell_type": "code",
   "execution_count": 8,
   "id": "accepted-subdivision",
   "metadata": {},
   "outputs": [
    {
     "name": "stdout",
     "output_type": "stream",
     "text": [
      "Gender : (Female, undisclosed)\n",
      "\n",
      "Sleep_time : (2022-05-05 00:00:00, 2022-05-05 23:45:00)\n",
      "\n",
      "Wake_up_time : (2022-05-05 04:00:00, 2022-05-06 14:30:00)\n",
      "\n",
      "Sleep_duration : (0 days 04:00:00, 0 days 14:45:00)\n",
      "\n",
      "Health_status : (Healthy, Sick)\n",
      "\n",
      "Screentime_before_sleep_hrs : (0.25, 2.5)\n",
      "\n",
      "Workhours : (5.0, 10.0)\n",
      "\n",
      "Meal_intake : (1, 4)\n",
      "\n",
      "Smoking : (False, True)\n",
      "\n",
      "Drinking : (False, True)\n",
      "\n",
      "Sleep_Quality_% : (40, 69)\n",
      "\n"
     ]
    }
   ],
   "source": [
    "for i in df_sleep.columns:\n",
    "    print(f\"{i} : ({df_sleep[i].min()}, {df_sleep[i].max()})\")\n",
    "    print(\"\")"
   ]
  },
  {
   "cell_type": "markdown",
   "id": "falling-tomorrow",
   "metadata": {},
   "source": [
    "## Finding Anomalies and Patterns in Dataset"
   ]
  },
  {
   "cell_type": "markdown",
   "id": "accessible-kansas",
   "metadata": {},
   "source": [
    "### Gender"
   ]
  },
  {
   "cell_type": "code",
   "execution_count": 9,
   "id": "animal-copyright",
   "metadata": {},
   "outputs": [
    {
     "data": {
      "text/plain": [
       "0    Female\n",
       "1    Female\n",
       "2      Male\n",
       "3      Male\n",
       "4      Male\n",
       "Name: Gender, dtype: object"
      ]
     },
     "execution_count": 9,
     "metadata": {},
     "output_type": "execute_result"
    }
   ],
   "source": [
    "gender = df_sleep.Gender\n",
    "gender.head()"
   ]
  },
  {
   "cell_type": "code",
   "execution_count": 60,
   "id": "hollywood-holiday",
   "metadata": {
    "scrolled": true
   },
   "outputs": [
    {
     "data": {
      "text/plain": [
       "<AxesSubplot:xlabel='Gender', ylabel='count'>"
      ]
     },
     "execution_count": 60,
     "metadata": {},
     "output_type": "execute_result"
    },
    {
     "data": {
      "image/png": "[encoded data removed]",
      "text/plain": [
       "<Figure size 432x288 with 1 Axes>"
      ]
     },
     "metadata": {
      "needs_background": "light"
     },
     "output_type": "display_data"
    }
   ],
   "source": [
    "sns.countplot(data=gender, x=gender)\n",
    "# Number of instances for Female and Male are same but for undisclosed it is very less"
   ]
  },
  {
   "cell_type": "markdown",
   "id": "specific-column",
   "metadata": {},
   "source": [
    "Male and Female has the same instance but Undisclosed attribute has very less instances"
   ]
  },
  {
   "cell_type": "markdown",
   "id": "communist-oxygen",
   "metadata": {},
   "source": [
    "### Health Status"
   ]
  },
  {
   "cell_type": "code",
   "execution_count": 11,
   "id": "changed-instrument",
   "metadata": {},
   "outputs": [],
   "source": [
    "health_status = df_sleep.Health_status"
   ]
  },
  {
   "cell_type": "code",
   "execution_count": 12,
   "id": "increasing-drill",
   "metadata": {},
   "outputs": [
    {
     "data": {
      "text/plain": [
       "0       Okay\n",
       "1       Okay\n",
       "2    Healthy\n",
       "3       Sick\n",
       "4       Okay\n",
       "Name: Health_status, dtype: object"
      ]
     },
     "execution_count": 12,
     "metadata": {},
     "output_type": "execute_result"
    }
   ],
   "source": [
    "health_status.head()"
   ]
  },
  {
   "cell_type": "code",
   "execution_count": 61,
   "id": "labeled-florida",
   "metadata": {
    "scrolled": true
   },
   "outputs": [
    {
     "data": {
      "text/plain": [
       "<AxesSubplot:xlabel='Health_status', ylabel='count'>"
      ]
     },
     "execution_count": 61,
     "metadata": {},
     "output_type": "execute_result"
    },
    {
     "data": {
      "image/png": "[encoded data removed]",
      "text/plain": [
       "<Figure size 432x288 with 1 Axes>"
      ]
     },
     "metadata": {
      "needs_background": "light"
     },
     "output_type": "display_data"
    }
   ],
   "source": [
    "sns.countplot(data=health_status, x=health_status)"
   ]
  },
  {
   "cell_type": "markdown",
   "id": "formed-issue",
   "metadata": {},
   "source": [
    "Number of instances of Sick people are almost half of that of Healthy people"
   ]
  },
  {
   "cell_type": "markdown",
   "id": "inappropriate-cancer",
   "metadata": {},
   "source": [
    "### Screen time before sleep hours"
   ]
  },
  {
   "cell_type": "code",
   "execution_count": 14,
   "id": "apart-respect",
   "metadata": {},
   "outputs": [
    {
     "data": {
      "text/plain": [
       "0    1.25\n",
       "1    1.50\n",
       "2    2.25\n",
       "3    2.50\n",
       "4    1.75\n",
       "Name: Screentime_before_sleep_hrs, dtype: float64"
      ]
     },
     "execution_count": 14,
     "metadata": {},
     "output_type": "execute_result"
    }
   ],
   "source": [
    "screen_time = df_sleep.Screentime_before_sleep_hrs\n",
    "screen_time.head()"
   ]
  },
  {
   "cell_type": "markdown",
   "id": "correct-agriculture",
   "metadata": {},
   "source": [
    "#### Anomaly Detection in Screen_time"
   ]
  },
  {
   "cell_type": "markdown",
   "id": "configured-affairs",
   "metadata": {},
   "source": [
    "##### Using Quartile deviation method"
   ]
  },
  {
   "cell_type": "code",
   "execution_count": 15,
   "id": "gentle-stability",
   "metadata": {},
   "outputs": [
    {
     "data": {
      "text/plain": [
       "(1.5, 2.25, 0.75)"
      ]
     },
     "execution_count": 15,
     "metadata": {},
     "output_type": "execute_result"
    }
   ],
   "source": [
    "Q1 = screen_time.quantile(0.2)\n",
    "Q3 = screen_time.quantile(0.8)\n",
    "IQR = Q3-Q1\n",
    "Q1, Q3, IQR"
   ]
  },
  {
   "cell_type": "code",
   "execution_count": 16,
   "id": "prime-singing",
   "metadata": {},
   "outputs": [],
   "source": [
    "lower_limit = Q1 - 1.5*IQR\n",
    "upper_limit = Q3 + 1.5*IQR"
   ]
  },
  {
   "cell_type": "code",
   "execution_count": 17,
   "id": "emotional-citizen",
   "metadata": {},
   "outputs": [
    {
     "name": "stdout",
     "output_type": "stream",
     "text": [
      "Detected Outliers in the data : [0.25]\n"
     ]
    }
   ],
   "source": [
    "outliers = []\n",
    "for i in screen_time:\n",
    "    if i<lower_limit or i>upper_limit:\n",
    "        outliers.append(i)\n",
    "outliers = np.array(outliers)\n",
    "print(f\"Detected Outliers in the data : {np.unique(outliers)}\")"
   ]
  },
  {
   "cell_type": "markdown",
   "id": "dirty-delhi",
   "metadata": {},
   "source": [
    "##### Using box-plot method"
   ]
  },
  {
   "cell_type": "code",
   "execution_count": 18,
   "id": "faced-assembly",
   "metadata": {},
   "outputs": [
    {
     "data": {
      "text/plain": [
       "<AxesSubplot:>"
      ]
     },
     "execution_count": 18,
     "metadata": {},
     "output_type": "execute_result"
    },
    {
     "data": {
      "image/png": "[encoded data removed]",
      "text/plain": [
       "<Figure size 432x288 with 1 Axes>"
      ]
     },
     "metadata": {
      "needs_background": "light"
     },
     "output_type": "display_data"
    }
   ],
   "source": [
    "sns.boxplot(data=screen_time, width=5)\n",
    "# we can see the outlier in the graph, which is 0.25"
   ]
  },
  {
   "cell_type": "markdown",
   "id": "lovely-bearing",
   "metadata": {},
   "source": [
    "Outlier detected at o.25"
   ]
  },
  {
   "cell_type": "markdown",
   "id": "liable-family",
   "metadata": {},
   "source": [
    "#### Pattern Detection"
   ]
  },
  {
   "cell_type": "code",
   "execution_count": 19,
   "id": "cosmetic-daniel",
   "metadata": {},
   "outputs": [
    {
     "data": {
      "text/plain": [
       "<AxesSubplot:>"
      ]
     },
     "execution_count": 19,
     "metadata": {},
     "output_type": "execute_result"
    },
    {
     "data": {
      "image/png": "[encoded data removed]",
      "text/plain": [
       "<Figure size 432x288 with 1 Axes>"
      ]
     },
     "metadata": {
      "needs_background": "light"
     },
     "output_type": "display_data"
    }
   ],
   "source": [
    "screen_time.hist(bins=50)\n",
    "# Number of instances for [0.25, 1.25] is much less then [1.5, 2.5]"
   ]
  },
  {
   "cell_type": "markdown",
   "id": "unlikely-technique",
   "metadata": {},
   "source": [
    "Half of the attributes of this data has approximately 20% distribution whereas other half has 80%"
   ]
  },
  {
   "cell_type": "markdown",
   "id": "senior-punishment",
   "metadata": {},
   "source": [
    "### Workhours"
   ]
  },
  {
   "cell_type": "code",
   "execution_count": 20,
   "id": "christian-invasion",
   "metadata": {},
   "outputs": [
    {
     "data": {
      "text/plain": [
       "0     5.5\n",
       "1     8.0\n",
       "2     8.5\n",
       "3     7.5\n",
       "4    10.0\n",
       "Name: Workhours, dtype: float64"
      ]
     },
     "execution_count": 20,
     "metadata": {},
     "output_type": "execute_result"
    }
   ],
   "source": [
    "workhours = df_sleep.Workhours\n",
    "workhours.head()"
   ]
  },
  {
   "cell_type": "markdown",
   "id": "ultimate-offense",
   "metadata": {},
   "source": [
    "#### Anomaly Detection in Workhours"
   ]
  },
  {
   "cell_type": "markdown",
   "id": "accompanied-tragedy",
   "metadata": {},
   "source": [
    "##### Using mean and standard deviation method"
   ]
  },
  {
   "cell_type": "code",
   "execution_count": 21,
   "id": "above-composite",
   "metadata": {},
   "outputs": [
    {
     "data": {
      "text/plain": [
       "(8.1011, 1.4258431856273677, 5.249413628745265, 10.952786371254735)"
      ]
     },
     "execution_count": 21,
     "metadata": {},
     "output_type": "execute_result"
    }
   ],
   "source": [
    "mean = np.mean(workhours)\n",
    "std = np.std(workhours)\n",
    "upper = mean + 2*std\n",
    "lower = abs(mean - 2*std)\n",
    "mean, std, lower, upper"
   ]
  },
  {
   "cell_type": "code",
   "execution_count": 22,
   "id": "robust-coral",
   "metadata": {},
   "outputs": [
    {
     "name": "stdout",
     "output_type": "stream",
     "text": [
      "Detected Outliers in the data : [5.]\n"
     ]
    }
   ],
   "source": [
    "outliers = []\n",
    "for i in workhours:\n",
    "    if i>upper or i<lower:\n",
    "        outliers.append(i)\n",
    "print(f\"Detected Outliers in the data : {np.unique(np.array(outliers))}\")"
   ]
  },
  {
   "cell_type": "code",
   "execution_count": 23,
   "id": "alive-german",
   "metadata": {},
   "outputs": [
    {
     "data": {
      "text/plain": [
       "array([ 5.5,  8. ,  8.5,  7.5, 10. ,  6.5,  9.5,  5. ,  9. ,  6. ,  7. ])"
      ]
     },
     "execution_count": 23,
     "metadata": {},
     "output_type": "execute_result"
    }
   ],
   "source": [
    "workhours.unique()"
   ]
  },
  {
   "cell_type": "markdown",
   "id": "decimal-tuner",
   "metadata": {},
   "source": [
    "##### Using box-plot method"
   ]
  },
  {
   "cell_type": "code",
   "execution_count": 24,
   "id": "bacterial-record",
   "metadata": {},
   "outputs": [
    {
     "data": {
      "text/plain": [
       "<AxesSubplot:>"
      ]
     },
     "execution_count": 24,
     "metadata": {},
     "output_type": "execute_result"
    },
    {
     "data": {
      "image/png": "[encoded data removed]",
      "text/plain": [
       "<Figure size 432x288 with 1 Axes>"
      ]
     },
     "metadata": {
      "needs_background": "light"
     },
     "output_type": "display_data"
    }
   ],
   "source": [
    "sns.boxplot(data=workhours)\n",
    "#It detects no outliers"
   ]
  },
  {
   "cell_type": "markdown",
   "id": "legendary-crystal",
   "metadata": {},
   "source": [
    "Due to dilemma in detecting outliers, hence I can't conclude anything"
   ]
  },
  {
   "cell_type": "markdown",
   "id": "revolutionary-neighborhood",
   "metadata": {},
   "source": [
    "#### Pattern Detection"
   ]
  },
  {
   "cell_type": "code",
   "execution_count": 26,
   "id": "internal-photograph",
   "metadata": {},
   "outputs": [
    {
     "data": {
      "text/plain": [
       "<AxesSubplot:xlabel='Workhours'>"
      ]
     },
     "execution_count": 26,
     "metadata": {},
     "output_type": "execute_result"
    },
    {
     "data": {
      "image/png": "[encoded data removed]",
      "text/plain": [
       "<Figure size 576x360 with 1 Axes>"
      ]
     },
     "metadata": {
      "needs_background": "light"
     },
     "output_type": "display_data"
    }
   ],
   "source": [
    "plt.figure(figsize=(8, 5))\n",
    "sns.scatterplot(data=workhours, x=workhours[:1000], y=range(1000))"
   ]
  },
  {
   "cell_type": "markdown",
   "id": "mediterranean-highway",
   "metadata": {},
   "source": [
    "Scatterplot of the column shows some uneven distribution of instances"
   ]
  },
  {
   "cell_type": "code",
   "execution_count": 27,
   "id": "adjacent-western",
   "metadata": {
    "scrolled": true
   },
   "outputs": [
    {
     "data": {
      "text/plain": [
       "<AxesSubplot:>"
      ]
     },
     "execution_count": 27,
     "metadata": {},
     "output_type": "execute_result"
    },
    {
     "data": {
      "image/png": "[encoded data removed]",
      "text/plain": [
       "<Figure size 576x360 with 1 Axes>"
      ]
     },
     "metadata": {
      "needs_background": "light"
     },
     "output_type": "display_data"
    }
   ],
   "source": [
    "workhours.hist(bins=50, figsize=(8, 5))"
   ]
  },
  {
   "cell_type": "markdown",
   "id": "derived-infrastructure",
   "metadata": {},
   "source": [
    "Almost half of the attributes of this data has approximately 30% distribution whereas other half has 70%"
   ]
  },
  {
   "cell_type": "markdown",
   "id": "western-springer",
   "metadata": {},
   "source": [
    "### Meal Intake"
   ]
  },
  {
   "cell_type": "code",
   "execution_count": 28,
   "id": "constitutional-theology",
   "metadata": {},
   "outputs": [
    {
     "data": {
      "text/plain": [
       "0    2\n",
       "1    3\n",
       "2    3\n",
       "3    3\n",
       "4    4\n",
       "Name: Meal_intake, dtype: int64"
      ]
     },
     "execution_count": 28,
     "metadata": {},
     "output_type": "execute_result"
    }
   ],
   "source": [
    "meal = df_sleep.Meal_intake\n",
    "meal.head()"
   ]
  },
  {
   "cell_type": "code",
   "execution_count": 29,
   "id": "defensive-halifax",
   "metadata": {},
   "outputs": [
    {
     "data": {
      "text/plain": [
       "array([2, 3, 4, 1], dtype=int64)"
      ]
     },
     "execution_count": 29,
     "metadata": {},
     "output_type": "execute_result"
    }
   ],
   "source": [
    "meal.unique()"
   ]
  },
  {
   "cell_type": "code",
   "execution_count": 30,
   "id": "accessible-giant",
   "metadata": {
    "scrolled": true
   },
   "outputs": [
    {
     "data": {
      "text/plain": [
       "<AxesSubplot:>"
      ]
     },
     "execution_count": 30,
     "metadata": {},
     "output_type": "execute_result"
    },
    {
     "data": {
      "image/png": "[encoded data removed]",
      "text/plain": [
       "<Figure size 432x288 with 1 Axes>"
      ]
     },
     "metadata": {
      "needs_background": "light"
     },
     "output_type": "display_data"
    }
   ],
   "source": [
    "meal.hist()"
   ]
  },
  {
   "cell_type": "markdown",
   "id": "measured-concert",
   "metadata": {},
   "source": [
    "Half of the attributes of this data has approximately 25% distribution whereas other half has 75%"
   ]
  },
  {
   "cell_type": "markdown",
   "id": "pressed-programmer",
   "metadata": {},
   "source": [
    "### Sleep Quality"
   ]
  },
  {
   "cell_type": "code",
   "execution_count": 31,
   "id": "digital-wildlife",
   "metadata": {},
   "outputs": [
    {
     "data": {
      "text/plain": [
       "0    61\n",
       "1    40\n",
       "2    41\n",
       "3    42\n",
       "4    42\n",
       "Name: Sleep_Quality_%, dtype: int64"
      ]
     },
     "execution_count": 31,
     "metadata": {},
     "output_type": "execute_result"
    }
   ],
   "source": [
    "sleep_qu = df_sleep[\"Sleep_Quality_%\"]\n",
    "sleep_qu.head()"
   ]
  },
  {
   "cell_type": "code",
   "execution_count": 32,
   "id": "behind-thermal",
   "metadata": {},
   "outputs": [
    {
     "data": {
      "text/plain": [
       "array([61, 40, 41, 42, 43, 52, 66, 62, 67, 53, 60, 54, 68, 63, 44, 65, 69,\n",
       "       50, 51, 64], dtype=int64)"
      ]
     },
     "execution_count": 32,
     "metadata": {},
     "output_type": "execute_result"
    }
   ],
   "source": [
    "sleep_qu.unique()"
   ]
  },
  {
   "cell_type": "markdown",
   "id": "weighted-berlin",
   "metadata": {},
   "source": [
    "#### Anomaly Detection"
   ]
  },
  {
   "cell_type": "markdown",
   "id": "strong-regression",
   "metadata": {},
   "source": [
    "##### Using Quartile Deviation Method"
   ]
  },
  {
   "cell_type": "code",
   "execution_count": 33,
   "id": "automotive-might",
   "metadata": {},
   "outputs": [
    {
     "data": {
      "text/plain": [
       "(42.0, 65.0, 23.0)"
      ]
     },
     "execution_count": 33,
     "metadata": {},
     "output_type": "execute_result"
    }
   ],
   "source": [
    "Q1 = sleep_qu.quantile(0.2)\n",
    "Q3 = sleep_qu.quantile(0.8)\n",
    "IQR = Q3-Q1\n",
    "Q1, Q3, IQR"
   ]
  },
  {
   "cell_type": "code",
   "execution_count": 34,
   "id": "attractive-iceland",
   "metadata": {},
   "outputs": [],
   "source": [
    "lower_limit = Q1 - 1.5*IQR\n",
    "upper_limit = Q3 + 1.5*IQR"
   ]
  },
  {
   "cell_type": "code",
   "execution_count": 35,
   "id": "billion-prefix",
   "metadata": {},
   "outputs": [
    {
     "data": {
      "text/plain": [
       "(7.5, 99.5)"
      ]
     },
     "execution_count": 35,
     "metadata": {},
     "output_type": "execute_result"
    }
   ],
   "source": [
    "lower_limit, upper_limit"
   ]
  },
  {
   "cell_type": "code",
   "execution_count": 36,
   "id": "dirty-craft",
   "metadata": {},
   "outputs": [
    {
     "name": "stdout",
     "output_type": "stream",
     "text": [
      "Detected Outliers in the data : []\n"
     ]
    }
   ],
   "source": [
    "outliers = []\n",
    "for i in sleep_qu:\n",
    "    if i<lower_limit or i>upper_limit:\n",
    "        outliers.append(i)\n",
    "outliers = np.array(outliers)\n",
    "print(f\"Detected Outliers in the data : {np.unique(outliers)}\")"
   ]
  },
  {
   "cell_type": "code",
   "execution_count": 37,
   "id": "recognized-spice",
   "metadata": {},
   "outputs": [],
   "source": [
    "# no anomaly detected in Sleep Quality column"
   ]
  },
  {
   "cell_type": "markdown",
   "id": "scientific-certification",
   "metadata": {},
   "source": [
    "#### Pattern Detection"
   ]
  },
  {
   "cell_type": "code",
   "execution_count": 38,
   "id": "reliable-parker",
   "metadata": {
    "scrolled": true
   },
   "outputs": [
    {
     "data": {
      "text/plain": [
       "<AxesSubplot:>"
      ]
     },
     "execution_count": 38,
     "metadata": {},
     "output_type": "execute_result"
    },
    {
     "data": {
      "image/png": "[encoded data removed]",
      "text/plain": [
       "<Figure size 432x288 with 1 Axes>"
      ]
     },
     "metadata": {
      "needs_background": "light"
     },
     "output_type": "display_data"
    }
   ],
   "source": [
    "sleep_qu.hist(bins=50)"
   ]
  },
  {
   "cell_type": "markdown",
   "id": "collect-ordering",
   "metadata": {},
   "source": [
    "Data for 45-50, 55-60 are missing, hence making it unevenly distributed column"
   ]
  },
  {
   "cell_type": "code",
   "execution_count": 39,
   "id": "assumed-permit",
   "metadata": {
    "scrolled": true
   },
   "outputs": [
    {
     "data": {
      "text/plain": [
       "<AxesSubplot:xlabel='Sleep_Quality_%'>"
      ]
     },
     "execution_count": 39,
     "metadata": {},
     "output_type": "execute_result"
    },
    {
     "data": {
      "image/png": "[encoded data removed]",
      "text/plain": [
       "<Figure size 432x288 with 1 Axes>"
      ]
     },
     "metadata": {
      "needs_background": "light"
     },
     "output_type": "display_data"
    }
   ],
   "source": [
    "sns.scatterplot(data=sleep_qu, x=sleep_qu[:1000], y=range(1000))"
   ]
  },
  {
   "cell_type": "markdown",
   "id": "accurate-taylor",
   "metadata": {},
   "source": [
    "Scatterplot for the same shows the same thing, i.e., Data for 45-50, 55-60 are missing, hence making it unevenly distributed column"
   ]
  },
  {
   "cell_type": "markdown",
   "id": "sudden-found",
   "metadata": {},
   "source": [
    "## Pattern Detected in, Screentime_before_sleep_hrs, Meal_intake, and Workhours\n",
    "The initial values of the columns have less instances in comparison to other half instances."
   ]
  },
  {
   "cell_type": "markdown",
   "id": "celtic-purpose",
   "metadata": {},
   "source": [
    "# Relationship in this Dataset"
   ]
  },
  {
   "attachments": {
    "pearson.svg": {
     "image/svg+xml": [
      "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"
     ]
    }
   },
   "cell_type": "markdown",
   "id": "presidential-albuquerque",
   "metadata": {},
   "source": [
    "### Pearson\n",
    "![pearson.svg](attachment:pearson.svg)"
   ]
  },
  {
   "cell_type": "code",
   "execution_count": 40,
   "id": "superb-summit",
   "metadata": {
    "scrolled": true
   },
   "outputs": [
    {
     "data": {
      "text/html": [
       "<div>\n",
       "<style scoped>\n",
       "    .dataframe tbody tr th:only-of-type {\n",
       "        vertical-align: middle;\n",
       "    }\n",
       "\n",
       "    .dataframe tbody tr th {\n",
       "        vertical-align: top;\n",
       "    }\n",
       "\n",
       "    .dataframe thead th {\n",
       "        text-align: right;\n",
       "    }\n",
       "</style>\n",
       "<table border=\"1\" class=\"dataframe\">\n",
       "  <thead>\n",
       "    <tr style=\"text-align: right;\">\n",
       "      <th></th>\n",
       "      <th>Screentime_before_sleep_hrs</th>\n",
       "      <th>Workhours</th>\n",
       "      <th>Meal_intake</th>\n",
       "      <th>Smoking</th>\n",
       "      <th>Drinking</th>\n",
       "      <th>Sleep_Quality_%</th>\n",
       "    </tr>\n",
       "  </thead>\n",
       "  <tbody>\n",
       "    <tr>\n",
       "      <th>Screentime_before_sleep_hrs</th>\n",
       "      <td>1.000000</td>\n",
       "      <td>-0.012144</td>\n",
       "      <td>-0.015775</td>\n",
       "      <td>0.004179</td>\n",
       "      <td>0.008688</td>\n",
       "      <td>-0.000546</td>\n",
       "    </tr>\n",
       "    <tr>\n",
       "      <th>Workhours</th>\n",
       "      <td>-0.012144</td>\n",
       "      <td>1.000000</td>\n",
       "      <td>0.708638</td>\n",
       "      <td>0.102157</td>\n",
       "      <td>0.111822</td>\n",
       "      <td>0.009009</td>\n",
       "    </tr>\n",
       "    <tr>\n",
       "      <th>Meal_intake</th>\n",
       "      <td>-0.015775</td>\n",
       "      <td>0.708638</td>\n",
       "      <td>1.000000</td>\n",
       "      <td>0.102252</td>\n",
       "      <td>0.114265</td>\n",
       "      <td>0.002115</td>\n",
       "    </tr>\n",
       "    <tr>\n",
       "      <th>Smoking</th>\n",
       "      <td>0.004179</td>\n",
       "      <td>0.102157</td>\n",
       "      <td>0.102252</td>\n",
       "      <td>1.000000</td>\n",
       "      <td>0.068611</td>\n",
       "      <td>-0.004321</td>\n",
       "    </tr>\n",
       "    <tr>\n",
       "      <th>Drinking</th>\n",
       "      <td>0.008688</td>\n",
       "      <td>0.111822</td>\n",
       "      <td>0.114265</td>\n",
       "      <td>0.068611</td>\n",
       "      <td>1.000000</td>\n",
       "      <td>-0.001921</td>\n",
       "    </tr>\n",
       "    <tr>\n",
       "      <th>Sleep_Quality_%</th>\n",
       "      <td>-0.000546</td>\n",
       "      <td>0.009009</td>\n",
       "      <td>0.002115</td>\n",
       "      <td>-0.004321</td>\n",
       "      <td>-0.001921</td>\n",
       "      <td>1.000000</td>\n",
       "    </tr>\n",
       "  </tbody>\n",
       "</table>\n",
       "</div>"
      ],
      "text/plain": [
       "                             Screentime_before_sleep_hrs  Workhours  \\\n",
       "Screentime_before_sleep_hrs                     1.000000  -0.012144   \n",
       "Workhours                                      -0.012144   1.000000   \n",
       "Meal_intake                                    -0.015775   0.708638   \n",
       "Smoking                                         0.004179   0.102157   \n",
       "Drinking                                        0.008688   0.111822   \n",
       "Sleep_Quality_%                                -0.000546   0.009009   \n",
       "\n",
       "                             Meal_intake   Smoking  Drinking  Sleep_Quality_%  \n",
       "Screentime_before_sleep_hrs    -0.015775  0.004179  0.008688        -0.000546  \n",
       "Workhours                       0.708638  0.102157  0.111822         0.009009  \n",
       "Meal_intake                     1.000000  0.102252  0.114265         0.002115  \n",
       "Smoking                         0.102252  1.000000  0.068611        -0.004321  \n",
       "Drinking                        0.114265  0.068611  1.000000        -0.001921  \n",
       "Sleep_Quality_%                 0.002115 -0.004321 -0.001921         1.000000  "
      ]
     },
     "execution_count": 40,
     "metadata": {},
     "output_type": "execute_result"
    }
   ],
   "source": [
    "df_sleep.corr(method=\"pearson\")"
   ]
  },
  {
   "cell_type": "markdown",
   "id": "noble-impact",
   "metadata": {},
   "source": [
    "### Kendall\n",
    "Kendall's Tau = (C – D / C + D)"
   ]
  },
  {
   "cell_type": "code",
   "execution_count": 41,
   "id": "virtual-helen",
   "metadata": {
    "scrolled": true
   },
   "outputs": [
    {
     "data": {
      "text/html": [
       "<div>\n",
       "<style scoped>\n",
       "    .dataframe tbody tr th:only-of-type {\n",
       "        vertical-align: middle;\n",
       "    }\n",
       "\n",
       "    .dataframe tbody tr th {\n",
       "        vertical-align: top;\n",
       "    }\n",
       "\n",
       "    .dataframe thead th {\n",
       "        text-align: right;\n",
       "    }\n",
       "</style>\n",
       "<table border=\"1\" class=\"dataframe\">\n",
       "  <thead>\n",
       "    <tr style=\"text-align: right;\">\n",
       "      <th></th>\n",
       "      <th>Screentime_before_sleep_hrs</th>\n",
       "      <th>Workhours</th>\n",
       "      <th>Meal_intake</th>\n",
       "      <th>Smoking</th>\n",
       "      <th>Drinking</th>\n",
       "      <th>Sleep_Quality_%</th>\n",
       "    </tr>\n",
       "  </thead>\n",
       "  <tbody>\n",
       "    <tr>\n",
       "      <th>Screentime_before_sleep_hrs</th>\n",
       "      <td>1.000000</td>\n",
       "      <td>-0.113486</td>\n",
       "      <td>-0.326645</td>\n",
       "      <td>-0.522013</td>\n",
       "      <td>-0.519623</td>\n",
       "      <td>-0.057235</td>\n",
       "    </tr>\n",
       "    <tr>\n",
       "      <th>Workhours</th>\n",
       "      <td>-0.113486</td>\n",
       "      <td>1.000000</td>\n",
       "      <td>0.045106</td>\n",
       "      <td>-0.472975</td>\n",
       "      <td>-0.467828</td>\n",
       "      <td>-0.053593</td>\n",
       "    </tr>\n",
       "    <tr>\n",
       "      <th>Meal_intake</th>\n",
       "      <td>-0.326645</td>\n",
       "      <td>0.045106</td>\n",
       "      <td>1.000000</td>\n",
       "      <td>-0.477256</td>\n",
       "      <td>-0.471147</td>\n",
       "      <td>-0.058013</td>\n",
       "    </tr>\n",
       "    <tr>\n",
       "      <th>Smoking</th>\n",
       "      <td>-0.522013</td>\n",
       "      <td>-0.472975</td>\n",
       "      <td>-0.477256</td>\n",
       "      <td>1.000000</td>\n",
       "      <td>-0.504162</td>\n",
       "      <td>-0.058648</td>\n",
       "    </tr>\n",
       "    <tr>\n",
       "      <th>Drinking</th>\n",
       "      <td>-0.519623</td>\n",
       "      <td>-0.467828</td>\n",
       "      <td>-0.471147</td>\n",
       "      <td>-0.504162</td>\n",
       "      <td>1.000000</td>\n",
       "      <td>-0.057032</td>\n",
       "    </tr>\n",
       "    <tr>\n",
       "      <th>Sleep_Quality_%</th>\n",
       "      <td>-0.057235</td>\n",
       "      <td>-0.053593</td>\n",
       "      <td>-0.058013</td>\n",
       "      <td>-0.058648</td>\n",
       "      <td>-0.057032</td>\n",
       "      <td>1.000000</td>\n",
       "    </tr>\n",
       "  </tbody>\n",
       "</table>\n",
       "</div>"
      ],
      "text/plain": [
       "                             Screentime_before_sleep_hrs  Workhours  \\\n",
       "Screentime_before_sleep_hrs                     1.000000  -0.113486   \n",
       "Workhours                                      -0.113486   1.000000   \n",
       "Meal_intake                                    -0.326645   0.045106   \n",
       "Smoking                                        -0.522013  -0.472975   \n",
       "Drinking                                       -0.519623  -0.467828   \n",
       "Sleep_Quality_%                                -0.057235  -0.053593   \n",
       "\n",
       "                             Meal_intake   Smoking  Drinking  Sleep_Quality_%  \n",
       "Screentime_before_sleep_hrs    -0.326645 -0.522013 -0.519623        -0.057235  \n",
       "Workhours                       0.045106 -0.472975 -0.467828        -0.053593  \n",
       "Meal_intake                     1.000000 -0.477256 -0.471147        -0.058013  \n",
       "Smoking                        -0.477256  1.000000 -0.504162        -0.058648  \n",
       "Drinking                       -0.471147 -0.504162  1.000000        -0.057032  \n",
       "Sleep_Quality_%                -0.058013 -0.058648 -0.057032         1.000000  "
      ]
     },
     "execution_count": 41,
     "metadata": {},
     "output_type": "execute_result"
    }
   ],
   "source": [
    "df_sleep.corr(method=\"kendall\")"
   ]
  },
  {
   "attachments": {
    "spearman.svg": {
     "image/svg+xml": [
      "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"
     ]
    }
   },
   "cell_type": "markdown",
   "id": "middle-cambridge",
   "metadata": {},
   "source": [
    "### Spearman![spearman.svg](attachment:spearman.svg)"
   ]
  },
  {
   "cell_type": "code",
   "execution_count": 42,
   "id": "mysterious-inflation",
   "metadata": {},
   "outputs": [
    {
     "data": {
      "text/html": [
       "<div>\n",
       "<style scoped>\n",
       "    .dataframe tbody tr th:only-of-type {\n",
       "        vertical-align: middle;\n",
       "    }\n",
       "\n",
       "    .dataframe tbody tr th {\n",
       "        vertical-align: top;\n",
       "    }\n",
       "\n",
       "    .dataframe thead th {\n",
       "        text-align: right;\n",
       "    }\n",
       "</style>\n",
       "<table border=\"1\" class=\"dataframe\">\n",
       "  <thead>\n",
       "    <tr style=\"text-align: right;\">\n",
       "      <th></th>\n",
       "      <th>Screentime_before_sleep_hrs</th>\n",
       "      <th>Workhours</th>\n",
       "      <th>Meal_intake</th>\n",
       "      <th>Smoking</th>\n",
       "      <th>Drinking</th>\n",
       "      <th>Sleep_Quality_%</th>\n",
       "    </tr>\n",
       "  </thead>\n",
       "  <tbody>\n",
       "    <tr>\n",
       "      <th>Screentime_before_sleep_hrs</th>\n",
       "      <td>1.000000</td>\n",
       "      <td>-0.009137</td>\n",
       "      <td>-0.014636</td>\n",
       "      <td>0.002276</td>\n",
       "      <td>0.008772</td>\n",
       "      <td>0.001033</td>\n",
       "    </tr>\n",
       "    <tr>\n",
       "      <th>Workhours</th>\n",
       "      <td>-0.009137</td>\n",
       "      <td>1.000000</td>\n",
       "      <td>0.581522</td>\n",
       "      <td>0.093102</td>\n",
       "      <td>0.102559</td>\n",
       "      <td>0.008341</td>\n",
       "    </tr>\n",
       "    <tr>\n",
       "      <th>Meal_intake</th>\n",
       "      <td>-0.014636</td>\n",
       "      <td>0.581522</td>\n",
       "      <td>1.000000</td>\n",
       "      <td>0.093525</td>\n",
       "      <td>0.105409</td>\n",
       "      <td>0.004007</td>\n",
       "    </tr>\n",
       "    <tr>\n",
       "      <th>Smoking</th>\n",
       "      <td>0.002276</td>\n",
       "      <td>0.093102</td>\n",
       "      <td>0.093525</td>\n",
       "      <td>1.000000</td>\n",
       "      <td>0.068611</td>\n",
       "      <td>-0.003914</td>\n",
       "    </tr>\n",
       "    <tr>\n",
       "      <th>Drinking</th>\n",
       "      <td>0.008772</td>\n",
       "      <td>0.102559</td>\n",
       "      <td>0.105409</td>\n",
       "      <td>0.068611</td>\n",
       "      <td>1.000000</td>\n",
       "      <td>0.002667</td>\n",
       "    </tr>\n",
       "    <tr>\n",
       "      <th>Sleep_Quality_%</th>\n",
       "      <td>0.001033</td>\n",
       "      <td>0.008341</td>\n",
       "      <td>0.004007</td>\n",
       "      <td>-0.003914</td>\n",
       "      <td>0.002667</td>\n",
       "      <td>1.000000</td>\n",
       "    </tr>\n",
       "  </tbody>\n",
       "</table>\n",
       "</div>"
      ],
      "text/plain": [
       "                             Screentime_before_sleep_hrs  Workhours  \\\n",
       "Screentime_before_sleep_hrs                     1.000000  -0.009137   \n",
       "Workhours                                      -0.009137   1.000000   \n",
       "Meal_intake                                    -0.014636   0.581522   \n",
       "Smoking                                         0.002276   0.093102   \n",
       "Drinking                                        0.008772   0.102559   \n",
       "Sleep_Quality_%                                 0.001033   0.008341   \n",
       "\n",
       "                             Meal_intake   Smoking  Drinking  Sleep_Quality_%  \n",
       "Screentime_before_sleep_hrs    -0.014636  0.002276  0.008772         0.001033  \n",
       "Workhours                       0.581522  0.093102  0.102559         0.008341  \n",
       "Meal_intake                     1.000000  0.093525  0.105409         0.004007  \n",
       "Smoking                         0.093525  1.000000  0.068611        -0.003914  \n",
       "Drinking                        0.105409  0.068611  1.000000         0.002667  \n",
       "Sleep_Quality_%                 0.004007 -0.003914  0.002667         1.000000  "
      ]
     },
     "execution_count": 42,
     "metadata": {},
     "output_type": "execute_result"
    }
   ],
   "source": [
    "df_sleep.corr(method=\"spearman\")"
   ]
  },
  {
   "cell_type": "markdown",
   "id": "baking-newsletter",
   "metadata": {},
   "source": [
    "#### Two correlation methods shows that Workhours and Meal_intake are somehow related"
   ]
  },
  {
   "cell_type": "markdown",
   "id": "eight-breakdown",
   "metadata": {},
   "source": [
    "## Finding Identifier"
   ]
  },
  {
   "cell_type": "code",
   "execution_count": 43,
   "id": "warming-leone",
   "metadata": {},
   "outputs": [],
   "source": [
    "dfr = df_sleep.copy()"
   ]
  },
  {
   "cell_type": "code",
   "execution_count": 44,
   "id": "absolute-complement",
   "metadata": {},
   "outputs": [
    {
     "data": {
      "text/html": [
       "<div>\n",
       "<style scoped>\n",
       "    .dataframe tbody tr th:only-of-type {\n",
       "        vertical-align: middle;\n",
       "    }\n",
       "\n",
       "    .dataframe tbody tr th {\n",
       "        vertical-align: top;\n",
       "    }\n",
       "\n",
       "    .dataframe thead th {\n",
       "        text-align: right;\n",
       "    }\n",
       "</style>\n",
       "<table border=\"1\" class=\"dataframe\">\n",
       "  <thead>\n",
       "    <tr style=\"text-align: right;\">\n",
       "      <th></th>\n",
       "      <th>Gender</th>\n",
       "      <th>Sleep_time</th>\n",
       "      <th>Wake_up_time</th>\n",
       "      <th>Sleep_duration</th>\n",
       "      <th>Health_status</th>\n",
       "      <th>Screentime_before_sleep_hrs</th>\n",
       "      <th>Workhours</th>\n",
       "      <th>Meal_intake</th>\n",
       "      <th>Smoking</th>\n",
       "      <th>Drinking</th>\n",
       "      <th>Sleep_Quality_%</th>\n",
       "    </tr>\n",
       "  </thead>\n",
       "  <tbody>\n",
       "    <tr>\n",
       "      <th>0</th>\n",
       "      <td>Female</td>\n",
       "      <td>2022-05-05 03:45:00</td>\n",
       "      <td>2022-05-05 12:30:00</td>\n",
       "      <td>0 days 08:45:00</td>\n",
       "      <td>Okay</td>\n",
       "      <td>1.25</td>\n",
       "      <td>5.5</td>\n",
       "      <td>2</td>\n",
       "      <td>True</td>\n",
       "      <td>True</td>\n",
       "      <td>61</td>\n",
       "    </tr>\n",
       "    <tr>\n",
       "      <th>1</th>\n",
       "      <td>Female</td>\n",
       "      <td>2022-05-05 23:15:00</td>\n",
       "      <td>2022-05-06 06:30:00</td>\n",
       "      <td>0 days 07:15:00</td>\n",
       "      <td>Okay</td>\n",
       "      <td>1.50</td>\n",
       "      <td>8.0</td>\n",
       "      <td>3</td>\n",
       "      <td>True</td>\n",
       "      <td>False</td>\n",
       "      <td>40</td>\n",
       "    </tr>\n",
       "    <tr>\n",
       "      <th>2</th>\n",
       "      <td>Male</td>\n",
       "      <td>2022-05-05 22:30:00</td>\n",
       "      <td>2022-05-06 06:00:00</td>\n",
       "      <td>0 days 07:30:00</td>\n",
       "      <td>Healthy</td>\n",
       "      <td>2.25</td>\n",
       "      <td>8.5</td>\n",
       "      <td>3</td>\n",
       "      <td>True</td>\n",
       "      <td>False</td>\n",
       "      <td>41</td>\n",
       "    </tr>\n",
       "    <tr>\n",
       "      <th>3</th>\n",
       "      <td>Male</td>\n",
       "      <td>2022-05-05 03:00:00</td>\n",
       "      <td>2022-05-05 17:00:00</td>\n",
       "      <td>0 days 14:00:00</td>\n",
       "      <td>Sick</td>\n",
       "      <td>2.50</td>\n",
       "      <td>7.5</td>\n",
       "      <td>3</td>\n",
       "      <td>True</td>\n",
       "      <td>False</td>\n",
       "      <td>42</td>\n",
       "    </tr>\n",
       "    <tr>\n",
       "      <th>4</th>\n",
       "      <td>Male</td>\n",
       "      <td>2022-05-05 00:15:00</td>\n",
       "      <td>2022-05-05 06:30:00</td>\n",
       "      <td>0 days 06:15:00</td>\n",
       "      <td>Okay</td>\n",
       "      <td>1.75</td>\n",
       "      <td>10.0</td>\n",
       "      <td>4</td>\n",
       "      <td>False</td>\n",
       "      <td>True</td>\n",
       "      <td>42</td>\n",
       "    </tr>\n",
       "  </tbody>\n",
       "</table>\n",
       "</div>"
      ],
      "text/plain": [
       "   Gender           Sleep_time         Wake_up_time   Sleep_duration  \\\n",
       "0  Female  2022-05-05 03:45:00  2022-05-05 12:30:00  0 days 08:45:00   \n",
       "1  Female  2022-05-05 23:15:00  2022-05-06 06:30:00  0 days 07:15:00   \n",
       "2    Male  2022-05-05 22:30:00  2022-05-06 06:00:00  0 days 07:30:00   \n",
       "3    Male  2022-05-05 03:00:00  2022-05-05 17:00:00  0 days 14:00:00   \n",
       "4    Male  2022-05-05 00:15:00  2022-05-05 06:30:00  0 days 06:15:00   \n",
       "\n",
       "  Health_status  Screentime_before_sleep_hrs  Workhours  Meal_intake  Smoking  \\\n",
       "0          Okay                         1.25        5.5            2     True   \n",
       "1          Okay                         1.50        8.0            3     True   \n",
       "2       Healthy                         2.25        8.5            3     True   \n",
       "3          Sick                         2.50        7.5            3     True   \n",
       "4          Okay                         1.75       10.0            4    False   \n",
       "\n",
       "   Drinking  Sleep_Quality_%  \n",
       "0      True               61  \n",
       "1     False               40  \n",
       "2     False               41  \n",
       "3     False               42  \n",
       "4      True               42  "
      ]
     },
     "execution_count": 44,
     "metadata": {},
     "output_type": "execute_result"
    }
   ],
   "source": [
    "dfr.head()"
   ]
  },
  {
   "cell_type": "markdown",
   "id": "peripheral-april",
   "metadata": {},
   "source": [
    "### Try-1"
   ]
  },
  {
   "cell_type": "code",
   "execution_count": 45,
   "id": "congressional-consent",
   "metadata": {},
   "outputs": [],
   "source": [
    "gen_identifier = []\n",
    "for i in range(10000):\n",
    "    gen_identifier.append(dfr[\"Screentime_before_sleep_hrs\"][i]*dfr[\"Workhours\"][i]*dfr[\"Sleep_Quality_%\"][i])"
   ]
  },
  {
   "cell_type": "code",
   "execution_count": 46,
   "id": "advisory-wings",
   "metadata": {},
   "outputs": [
    {
     "data": {
      "text/plain": [
       "1082"
      ]
     },
     "execution_count": 46,
     "metadata": {},
     "output_type": "execute_result"
    }
   ],
   "source": [
    "len(np.unique(np.array(gen_identifier)))        #try-1 failed"
   ]
  },
  {
   "cell_type": "markdown",
   "id": "south-oasis",
   "metadata": {},
   "source": [
    "Trying to find identifier using Screentime_before_sleep_hrs, Workhours, and Sleep Quality\n",
    "\n",
    "Mathematical Description:\n",
    "Identifier = Screentime_before_sleep_hrs * Workhours * Sleep Quality"
   ]
  },
  {
   "cell_type": "markdown",
   "id": "brutal-sensitivity",
   "metadata": {},
   "source": [
    "### Try-2"
   ]
  },
  {
   "cell_type": "code",
   "execution_count": 47,
   "id": "welsh-mother",
   "metadata": {},
   "outputs": [
    {
     "data": {
      "text/plain": [
       "40"
      ]
     },
     "execution_count": 47,
     "metadata": {},
     "output_type": "execute_result"
    }
   ],
   "source": [
    "len(dfr[\"Sleep_time\"].unique())"
   ]
  },
  {
   "cell_type": "code",
   "execution_count": 48,
   "id": "photographic-donor",
   "metadata": {},
   "outputs": [
    {
     "data": {
      "text/plain": [
       "0   2022-05-05 03:45:00\n",
       "1   2022-05-05 23:15:00\n",
       "2   2022-05-05 22:30:00\n",
       "3   2022-05-05 03:00:00\n",
       "4   2022-05-05 00:15:00\n",
       "Name: Sleep_time, dtype: datetime64[ns]"
      ]
     },
     "execution_count": 48,
     "metadata": {},
     "output_type": "execute_result"
    }
   ],
   "source": [
    "s1 = pd.to_datetime(dfr.Sleep_time)\n",
    "s1.head()"
   ]
  },
  {
   "cell_type": "code",
   "execution_count": 49,
   "id": "colonial-booking",
   "metadata": {},
   "outputs": [],
   "source": [
    "def to_integer(datetime):\n",
    "    return 1000*datetime.year + 100*datetime.month + 10*datetime.day"
   ]
  },
  {
   "cell_type": "code",
   "execution_count": 50,
   "id": "established-guatemala",
   "metadata": {},
   "outputs": [],
   "source": [
    "identifier = []\n",
    "for i in range(10000):\n",
    "    identifier.append(to_integer(s1[i])*(dfr[\"Workhours\"] - dfr[\"Screentime_before_sleep_hrs\"])) #test failed"
   ]
  },
  {
   "cell_type": "markdown",
   "id": "distant-bronze",
   "metadata": {},
   "source": [
    "By using Sleep_time and converting it into integer, with Workhours and Screentime before sleep hours\n",
    "\n",
    "Mathematical Description:\n",
    "Identifier = int(sleep_time) * Workhours * Screentime_before_sleep_hrs"
   ]
  },
  {
   "cell_type": "markdown",
   "id": "broad-cyprus",
   "metadata": {},
   "source": [
    "### Try-3"
   ]
  },
  {
   "cell_type": "code",
   "execution_count": 51,
   "id": "plain-bracelet",
   "metadata": {},
   "outputs": [],
   "source": [
    "import random"
   ]
  },
  {
   "cell_type": "code",
   "execution_count": 52,
   "id": "irish-portuguese",
   "metadata": {},
   "outputs": [],
   "source": [
    "identifier = []\n",
    "for i in range(10000):\n",
    "    string = random.choice(dfr[\"Health_status\"][i]) + random.choice(dfr[\"Gender\"][i]) + random.choice(dfr[\"Health_status\"][i])+ random.choice(dfr[\"Health_status\"][i]) + random.choice(dfr[\"Health_status\"][i]) + str(int(dfr[\"Sleep_Quality_%\"][i]*dfr[\"Workhours\"][i]*dfr[\"Screentime_before_sleep_hrs\"][i]*random.randint(dfr[\"Meal_intake\"][i], dfr[\"Meal_intake\"][i]*10)))\n",
    "    identifier.append(string)"
   ]
  },
  {
   "cell_type": "code",
   "execution_count": 53,
   "id": "actual-integral",
   "metadata": {},
   "outputs": [
    {
     "data": {
      "text/plain": [
       "9998"
      ]
     },
     "execution_count": 53,
     "metadata": {},
     "output_type": "execute_result"
    }
   ],
   "source": [
    "len(np.unique(identifier))"
   ]
  },
  {
   "cell_type": "code",
   "execution_count": 54,
   "id": "forced-oasis",
   "metadata": {},
   "outputs": [
    {
     "data": {
      "text/plain": [
       "['kFOkO838',\n",
       " 'yFkak12000',\n",
       " 'tMtHH21955',\n",
       " 'kakci22837',\n",
       " 'Oeaka5145',\n",
       " 'eFHye4568',\n",
       " 'Oeyya15159',\n",
       " 'yFtyy26000',\n",
       " 'yekaO17325',\n",
       " 'aMeal21700']"
      ]
     },
     "execution_count": 54,
     "metadata": {},
     "output_type": "execute_result"
    }
   ],
   "source": [
    "identifier[:10]"
   ]
  },
  {
   "cell_type": "markdown",
   "id": "silent-making",
   "metadata": {},
   "source": [
    "By using the random method to choosse the random letters from the columns:\n",
    "Still can't find the appropriate identifier for this dataset.\n",
    "Used Health_status, Gender, Sleep_quality, Workhours, Screentime_before_sleep_hrs, Meal_intake\n",
    "\n",
    "Mathematical Description:\n",
    "Identifier = random(health_status[index]) + random(gender[index]) + random(health_status[index]) + random(health_status[index]) + random(health_status[index]) + sleep quality + workhours + meal intake"
   ]
  },
  {
   "cell_type": "code",
   "execution_count": 56,
   "id": "three-amazon",
   "metadata": {},
   "outputs": [],
   "source": [
    "Id = pd.DataFrame(identifier, columns=[\"Id\"])"
   ]
  },
  {
   "cell_type": "code",
   "execution_count": 57,
   "id": "hired-nancy",
   "metadata": {},
   "outputs": [],
   "source": [
    "dfFinal = df_sleep.copy()"
   ]
  },
  {
   "cell_type": "code",
   "execution_count": 58,
   "id": "secret-masters",
   "metadata": {},
   "outputs": [],
   "source": [
    "dfFinal[\"Id\"] = Id"
   ]
  },
  {
   "cell_type": "code",
   "execution_count": 59,
   "id": "referenced-prophet",
   "metadata": {},
   "outputs": [
    {
     "data": {
      "text/html": [
       "<div>\n",
       "<style scoped>\n",
       "    .dataframe tbody tr th:only-of-type {\n",
       "        vertical-align: middle;\n",
       "    }\n",
       "\n",
       "    .dataframe tbody tr th {\n",
       "        vertical-align: top;\n",
       "    }\n",
       "\n",
       "    .dataframe thead th {\n",
       "        text-align: right;\n",
       "    }\n",
       "</style>\n",
       "<table border=\"1\" class=\"dataframe\">\n",
       "  <thead>\n",
       "    <tr style=\"text-align: right;\">\n",
       "      <th></th>\n",
       "      <th>Gender</th>\n",
       "      <th>Sleep_time</th>\n",
       "      <th>Wake_up_time</th>\n",
       "      <th>Sleep_duration</th>\n",
       "      <th>Health_status</th>\n",
       "      <th>Screentime_before_sleep_hrs</th>\n",
       "      <th>Workhours</th>\n",
       "      <th>Meal_intake</th>\n",
       "      <th>Smoking</th>\n",
       "      <th>Drinking</th>\n",
       "      <th>Sleep_Quality_%</th>\n",
       "      <th>Id</th>\n",
       "    </tr>\n",
       "  </thead>\n",
       "  <tbody>\n",
       "    <tr>\n",
       "      <th>0</th>\n",
       "      <td>Female</td>\n",
       "      <td>2022-05-05 03:45:00</td>\n",
       "      <td>2022-05-05 12:30:00</td>\n",
       "      <td>0 days 08:45:00</td>\n",
       "      <td>Okay</td>\n",
       "      <td>1.25</td>\n",
       "      <td>5.5</td>\n",
       "      <td>2</td>\n",
       "      <td>True</td>\n",
       "      <td>True</td>\n",
       "      <td>61</td>\n",
       "      <td>kFOkO838</td>\n",
       "    </tr>\n",
       "    <tr>\n",
       "      <th>1</th>\n",
       "      <td>Female</td>\n",
       "      <td>2022-05-05 23:15:00</td>\n",
       "      <td>2022-05-06 06:30:00</td>\n",
       "      <td>0 days 07:15:00</td>\n",
       "      <td>Okay</td>\n",
       "      <td>1.50</td>\n",
       "      <td>8.0</td>\n",
       "      <td>3</td>\n",
       "      <td>True</td>\n",
       "      <td>False</td>\n",
       "      <td>40</td>\n",
       "      <td>yFkak12000</td>\n",
       "    </tr>\n",
       "    <tr>\n",
       "      <th>2</th>\n",
       "      <td>Male</td>\n",
       "      <td>2022-05-05 22:30:00</td>\n",
       "      <td>2022-05-06 06:00:00</td>\n",
       "      <td>0 days 07:30:00</td>\n",
       "      <td>Healthy</td>\n",
       "      <td>2.25</td>\n",
       "      <td>8.5</td>\n",
       "      <td>3</td>\n",
       "      <td>True</td>\n",
       "      <td>False</td>\n",
       "      <td>41</td>\n",
       "      <td>tMtHH21955</td>\n",
       "    </tr>\n",
       "    <tr>\n",
       "      <th>3</th>\n",
       "      <td>Male</td>\n",
       "      <td>2022-05-05 03:00:00</td>\n",
       "      <td>2022-05-05 17:00:00</td>\n",
       "      <td>0 days 14:00:00</td>\n",
       "      <td>Sick</td>\n",
       "      <td>2.50</td>\n",
       "      <td>7.5</td>\n",
       "      <td>3</td>\n",
       "      <td>True</td>\n",
       "      <td>False</td>\n",
       "      <td>42</td>\n",
       "      <td>kakci22837</td>\n",
       "    </tr>\n",
       "    <tr>\n",
       "      <th>4</th>\n",
       "      <td>Male</td>\n",
       "      <td>2022-05-05 00:15:00</td>\n",
       "      <td>2022-05-05 06:30:00</td>\n",
       "      <td>0 days 06:15:00</td>\n",
       "      <td>Okay</td>\n",
       "      <td>1.75</td>\n",
       "      <td>10.0</td>\n",
       "      <td>4</td>\n",
       "      <td>False</td>\n",
       "      <td>True</td>\n",
       "      <td>42</td>\n",
       "      <td>Oeaka5145</td>\n",
       "    </tr>\n",
       "    <tr>\n",
       "      <th>...</th>\n",
       "      <td>...</td>\n",
       "      <td>...</td>\n",
       "      <td>...</td>\n",
       "      <td>...</td>\n",
       "      <td>...</td>\n",
       "      <td>...</td>\n",
       "      <td>...</td>\n",
       "      <td>...</td>\n",
       "      <td>...</td>\n",
       "      <td>...</td>\n",
       "      <td>...</td>\n",
       "      <td>...</td>\n",
       "    </tr>\n",
       "    <tr>\n",
       "      <th>9995</th>\n",
       "      <td>Female</td>\n",
       "      <td>2022-05-05 19:15:00</td>\n",
       "      <td>2022-05-06 01:30:00</td>\n",
       "      <td>0 days 06:15:00</td>\n",
       "      <td>Healthy</td>\n",
       "      <td>2.25</td>\n",
       "      <td>10.0</td>\n",
       "      <td>3</td>\n",
       "      <td>False</td>\n",
       "      <td>True</td>\n",
       "      <td>52</td>\n",
       "      <td>ylyHt26910</td>\n",
       "    </tr>\n",
       "    <tr>\n",
       "      <th>9996</th>\n",
       "      <td>Female</td>\n",
       "      <td>2022-05-05 18:15:00</td>\n",
       "      <td>2022-05-06 05:30:00</td>\n",
       "      <td>0 days 11:15:00</td>\n",
       "      <td>Sick</td>\n",
       "      <td>2.25</td>\n",
       "      <td>7.5</td>\n",
       "      <td>3</td>\n",
       "      <td>True</td>\n",
       "      <td>True</td>\n",
       "      <td>67</td>\n",
       "      <td>iakkS15828</td>\n",
       "    </tr>\n",
       "    <tr>\n",
       "      <th>9997</th>\n",
       "      <td>Male</td>\n",
       "      <td>2022-05-05 21:00:00</td>\n",
       "      <td>2022-05-06 03:00:00</td>\n",
       "      <td>0 days 06:00:00</td>\n",
       "      <td>Healthy</td>\n",
       "      <td>2.50</td>\n",
       "      <td>6.0</td>\n",
       "      <td>2</td>\n",
       "      <td>True</td>\n",
       "      <td>True</td>\n",
       "      <td>69</td>\n",
       "      <td>hMaHy11385</td>\n",
       "    </tr>\n",
       "    <tr>\n",
       "      <th>9998</th>\n",
       "      <td>Female</td>\n",
       "      <td>2022-05-05 19:00:00</td>\n",
       "      <td>2022-05-06 01:00:00</td>\n",
       "      <td>0 days 06:00:00</td>\n",
       "      <td>Healthy</td>\n",
       "      <td>2.00</td>\n",
       "      <td>7.5</td>\n",
       "      <td>3</td>\n",
       "      <td>True</td>\n",
       "      <td>True</td>\n",
       "      <td>40</td>\n",
       "      <td>llHay16200</td>\n",
       "    </tr>\n",
       "    <tr>\n",
       "      <th>9999</th>\n",
       "      <td>Male</td>\n",
       "      <td>2022-05-05 21:15:00</td>\n",
       "      <td>2022-05-06 08:30:00</td>\n",
       "      <td>0 days 11:15:00</td>\n",
       "      <td>Sick</td>\n",
       "      <td>1.75</td>\n",
       "      <td>9.0</td>\n",
       "      <td>3</td>\n",
       "      <td>False</td>\n",
       "      <td>False</td>\n",
       "      <td>51</td>\n",
       "      <td>cakci6426</td>\n",
       "    </tr>\n",
       "  </tbody>\n",
       "</table>\n",
       "<p>10000 rows × 12 columns</p>\n",
       "</div>"
      ],
      "text/plain": [
       "      Gender           Sleep_time         Wake_up_time   Sleep_duration  \\\n",
       "0     Female  2022-05-05 03:45:00  2022-05-05 12:30:00  0 days 08:45:00   \n",
       "1     Female  2022-05-05 23:15:00  2022-05-06 06:30:00  0 days 07:15:00   \n",
       "2       Male  2022-05-05 22:30:00  2022-05-06 06:00:00  0 days 07:30:00   \n",
       "3       Male  2022-05-05 03:00:00  2022-05-05 17:00:00  0 days 14:00:00   \n",
       "4       Male  2022-05-05 00:15:00  2022-05-05 06:30:00  0 days 06:15:00   \n",
       "...      ...                  ...                  ...              ...   \n",
       "9995  Female  2022-05-05 19:15:00  2022-05-06 01:30:00  0 days 06:15:00   \n",
       "9996  Female  2022-05-05 18:15:00  2022-05-06 05:30:00  0 days 11:15:00   \n",
       "9997    Male  2022-05-05 21:00:00  2022-05-06 03:00:00  0 days 06:00:00   \n",
       "9998  Female  2022-05-05 19:00:00  2022-05-06 01:00:00  0 days 06:00:00   \n",
       "9999    Male  2022-05-05 21:15:00  2022-05-06 08:30:00  0 days 11:15:00   \n",
       "\n",
       "     Health_status  Screentime_before_sleep_hrs  Workhours  Meal_intake  \\\n",
       "0             Okay                         1.25        5.5            2   \n",
       "1             Okay                         1.50        8.0            3   \n",
       "2          Healthy                         2.25        8.5            3   \n",
       "3             Sick                         2.50        7.5            3   \n",
       "4             Okay                         1.75       10.0            4   \n",
       "...            ...                          ...        ...          ...   \n",
       "9995       Healthy                         2.25       10.0            3   \n",
       "9996          Sick                         2.25        7.5            3   \n",
       "9997       Healthy                         2.50        6.0            2   \n",
       "9998       Healthy                         2.00        7.5            3   \n",
       "9999          Sick                         1.75        9.0            3   \n",
       "\n",
       "      Smoking  Drinking  Sleep_Quality_%          Id  \n",
       "0        True      True               61    kFOkO838  \n",
       "1        True     False               40  yFkak12000  \n",
       "2        True     False               41  tMtHH21955  \n",
       "3        True     False               42  kakci22837  \n",
       "4       False      True               42   Oeaka5145  \n",
       "...       ...       ...              ...         ...  \n",
       "9995    False      True               52  ylyHt26910  \n",
       "9996     True      True               67  iakkS15828  \n",
       "9997     True      True               69  hMaHy11385  \n",
       "9998     True      True               40  llHay16200  \n",
       "9999    False     False               51   cakci6426  \n",
       "\n",
       "[10000 rows x 12 columns]"
      ]
     },
     "execution_count": 59,
     "metadata": {},
     "output_type": "execute_result"
    }
   ],
   "source": [
    "dfFinal"
   ]
  },
  {
   "cell_type": "code",
   "execution_count": null,
   "id": "technical-refund",
   "metadata": {},
   "outputs": [],
   "source": []
  }
 ],
 "metadata": {
  "kernelspec": {
   "display_name": "Python 3 (ipykernel)",
   "language": "python",
   "name": "python3"
  },
  "language_info": {
   "codemirror_mode": {
    "name": "ipython",
    "version": 3
   },
   "file_extension": ".py",
   "mimetype": "text/x-python",
   "name": "python",
   "nbconvert_exporter": "python",
   "pygments_lexer": "ipython3",
   "version": "3.9.2"
  }
 },
 "nbformat": 4,
 "nbformat_minor": 5
}
